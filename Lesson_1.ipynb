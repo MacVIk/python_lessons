{
 "cells": [
  {
   "cell_type": "markdown",
   "metadata": {},
   "source": [
    "# Привет =)\n"
   ]
  },
  {
   "cell_type": "code",
   "execution_count": null,
   "metadata": {},
   "outputs": [],
   "source": [
    "# Во всех заданиях тебе небходимо будет работать с массивами.\n",
    "# Для этого необходимо импортировать библиотеку numpy с псевдонимом np (оьщепринятый стандарт)\n",
    "\n"
   ]
  },
  {
   "cell_type": "code",
   "execution_count": null,
   "metadata": {},
   "outputs": [],
   "source": [
    "# 1. Нужно создать массив длинно 10 из элементов, начинающихся c первый элемент = 0, последний = 9\n",
    "# 1.1 Вывести (напечатать) этот массив\n",
    "\n",
    "\n"
   ]
  },
  {
   "cell_type": "code",
   "execution_count": null,
   "metadata": {},
   "outputs": [],
   "source": [
    "# 2. Создать новый массив, начиная с 1 и заканчивая 11.После этого необходимо вывести с помощью цикла: \n",
    "# 2.1 Первые 5 элементов\n",
    "# 2.2 Последние 2 элемента \n",
    "# 2.3 Элемнеты со 2 по 8\n",
    "\n",
    "\n"
   ]
  },
  {
   "cell_type": "code",
   "execution_count": null,
   "metadata": {},
   "outputs": [],
   "source": [
    "# 3. Необходимо вывести с помощью цикла \"for\": \n",
    "# 3.1 Сумму первых 5 элементов\n",
    "# 3.2 Сумму последних 5 элементов\n",
    "# 3.3 Сумму элементов со 2 по 8й\n",
    "\n"
   ]
  },
  {
   "cell_type": "code",
   "execution_count": null,
   "metadata": {},
   "outputs": [],
   "source": [
    "# 4. Повторить пункт 3, использую цикл \"while\"\n",
    "\n"
   ]
  },
  {
   "cell_type": "code",
   "execution_count": null,
   "metadata": {},
   "outputs": [],
   "source": [
    "# 5. Повторить пункт 3, использую функцию sum() библиотеки numpy и срезы\n",
    "\n"
   ]
  }
 ],
 "metadata": {
  "kernelspec": {
   "display_name": "Python 3",
   "language": "python",
   "name": "python3"
  },
  "language_info": {
   "codemirror_mode": {
    "name": "ipython",
    "version": 3
   },
   "file_extension": ".py",
   "mimetype": "text/x-python",
   "name": "python",
   "nbconvert_exporter": "python",
   "pygments_lexer": "ipython3",
   "version": "3.6.9"
  }
 },
 "nbformat": 4,
 "nbformat_minor": 4
}
